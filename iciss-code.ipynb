
# Define a prime number p
p = 11  # Replace with your desired prime number
zone = 111

# Create the multiplicative group of integers modulo p (the group of units modulo p)
Fp = GF(p)  # Finite field of order p

# We can choose any non-zero element as a generator, let's choose 2 for example
# In a finite field of prime order, 2 is often a generator, but we should check
generator = Fp(2)
if generator.multiplicative_order() != p - 1:
    # If 2 is not a generator, find one
    generator = Fp.multiplicative_generator()

# Print the generator

print("Multiplicative cyclic group of prime order:",p)
print("A generator of the:", generator)

# Get two random elements from the group
alpha_1 = Fp.random_element()
beta_1 = Fp.random_element()

r1 = ZZ.random_element(1, p)
r2 = ZZ.random_element(1, p)

integer_exponent = ZZ(r1)
c1 = generator ** integer_exponent

integer_exponent = ZZ(r2)
c2 = generator ** integer_exponent


temp = r2 * beta_1
integer_exponent = ZZ(temp)
temp = generator ** integer_exponent
temp = temp + zone
integer_exponent = ZZ(temp)
c4 = generator ** integer_exponent

integer_exponent = ZZ(beta_1)
temp = c2 ** integer_exponent
integer_exponent = ZZ(temp)
temp =  generator ** integer_exponent #Find the inverse
temp1 = c4 * temp
Mp = Fp(temp1).inverse_of_unit()

print("------- Ride Request ------")
print("Alpha 1:", alpha_1)
print("Beta 1:", beta_1)
print("r1:", r1)
print("r2:", r2)
print("c1:", c1)
print("c2:", c2)
print("c4:", c4)
print("Mp:", Mp)

# Ride Offer
# Get two random elements from the group
alpha_2 = Fp.random_element()
beta_2 = Fp.random_element()


r11 = ZZ.random_element(1, p)
r21 = ZZ.random_element(1, p)

integer_exponent = ZZ(r11)
c11 = generator ** integer_exponent

integer_exponent = ZZ(r21)
c21 = generator ** integer_exponent


temp = r21 * beta_1
integer_exponent = ZZ(temp)
temp = generator ** integer_exponent
temp = temp + zone
integer_exponent = ZZ(temp)
c41 = generator ** integer_exponent

integer_exponent = ZZ(beta_2)
temp = c21 ** integer_exponent
integer_exponent = ZZ(temp)
temp =  generator ** integer_exponent #Find the inverse
temp2 = c41 * temp
Md = Fp(temp2).inverse_of_unit()

print("------- Ride Offer ------")
print("Alpha 11:", alpha_11)
print("Beta 11:", beta_11)
print("r11:", r11)
print("r21:", r21)
print("c11:", c11)
print("c21:", c21)
print("c41:", c41)
print("Md:", Md)


